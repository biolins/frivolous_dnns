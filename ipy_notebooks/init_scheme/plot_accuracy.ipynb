{
 "cells": [
  {
   "cell_type": "code",
   "execution_count": 1,
   "metadata": {
    "collapsed": false
   },
   "outputs": [
    {
     "ename": "ImportError",
     "evalue": "No module named 'experiments'",
     "output_type": "error",
     "traceback": [
      "\u001b[1;31m---------------------------------------------------------------------------\u001b[0m",
      "\u001b[1;31mImportError\u001b[0m                               Traceback (most recent call last)",
      "\u001b[1;32m<ipython-input-1-8cc4f6435ff3>\u001b[0m in \u001b[0;36m<module>\u001b[1;34m()\u001b[0m\n\u001b[0;32m      4\u001b[0m \u001b[1;32mimport\u001b[0m \u001b[0msys\u001b[0m\u001b[1;33m\u001b[0m\u001b[0m\n\u001b[0;32m      5\u001b[0m \u001b[0msys\u001b[0m\u001b[1;33m.\u001b[0m\u001b[0mpath\u001b[0m\u001b[1;33m.\u001b[0m\u001b[0mappend\u001b[0m\u001b[1;33m(\u001b[0m\u001b[1;34m'../'\u001b[0m\u001b[1;33m)\u001b[0m\u001b[1;33m\u001b[0m\u001b[0m\n\u001b[1;32m----> 6\u001b[1;33m \u001b[1;32mimport\u001b[0m \u001b[0mexperiments\u001b[0m\u001b[1;33m\u001b[0m\u001b[0m\n\u001b[0m\u001b[0;32m      7\u001b[0m \u001b[1;33m\u001b[0m\u001b[0m\n\u001b[0;32m      8\u001b[0m \u001b[0mcurves\u001b[0m \u001b[1;33m=\u001b[0m \u001b[1;36m6\u001b[0m\u001b[1;33m\u001b[0m\u001b[0m\n",
      "\u001b[1;31mImportError\u001b[0m: No module named 'experiments'"
     ]
    }
   ],
   "source": [
    "import numpy as np\n",
    "import matplotlib.pyplot as plt\n",
    "import pandas as pd\n",
    "import sys\n",
    "sys.path.append('../../')\n",
    "import experiments\n",
    "\n",
    "curves = 6\n",
    "curves = 6\n",
    "curve_labels = ['Glorot Norm', 'Glorot Unif', 'He Norm', 'He Unif', 'Lecun Norm', 'Lecun Unif']\n",
    "curve_label_colors = ['blue', 'lightblue', 'green', 'lightgreen', 'darkorange', 'moccasin']\n",
    "sizes = 5\n",
    "size_factors = [0.25, 0.5, 1, 2, 4]\n",
    "size_labels = ['1/4x', '1/2x', '1x', '2x', '4x']\n",
    "size_idx_map = {0.25: 0, 0.5: 1, 1: 2, 2: 3, 4: 4}\n",
    "seeds = 5\n",
    "\n",
    "results = np.zeros((curves, seeds, sizes))\n",
    "results_test = np.zeros((curves, seeds, sizes))\n",
    "results_rand = np.zeros((curves, seeds, sizes))\n",
    "# are indexed [nn_type][size_factor]\n",
    "\n",
    "for ID in range(62, 92):\n",
    "\n",
    "    print('Processing ID:', ID)\n",
    "    opt = experiments.opt[ID]\n",
    "\n",
    "    curve_idx = 0  # unregularized\n",
    "    if opt.dataset.random_labels:\n",
    "        curve_idx = 5  # random labels\n",
    "    elif opt.hyper.augmentation and opt.hyper.drop_train < 1:\n",
    "        curve_idx = 1  # all regularizers\n",
    "    elif opt.hyper.augmentation:\n",
    "        curve_idx = 2\n",
    "    elif opt.hyper.drop_train < 1:\n",
    "        curve_idx = 3\n",
    "    elif opt.hyper.weight_decay:\n",
    "        curve_idx = 4\n",
    "    size_idx = size_idx_map[opt.dnn.neuron_multiplier[0]]\n",
    "\n",
    "    csv_file = experiments.opt[ID].csv_dir + experiments.opt[ID].name + '_redundancy.csv'\n",
    "    df = pd.read_csv(csv_file)\n",
    "    acc = df[df['evaluation_set'] == 'train']['performance'].iloc[0]\n",
    "    acc_test = df[df['evaluation_set'] == 'test']['performance'].iloc[0]\n",
    "    results[curve_idx][size_idx] = acc\n",
    "    results_test[curve_idx][size_idx] = acc_test\n",
    "\n",
    "results *= 100\n",
    "results_test *= 100"
   ]
  },
  {
   "cell_type": "code",
   "execution_count": null,
   "metadata": {
    "collapsed": true
   },
   "outputs": [],
   "source": [
    "# first plot train curves\n",
    "\n",
    "% matplotlib inline\n",
    "plt.figure(figsize=(10, 7))\n",
    "plt.title('CIFAR-10 - Accuracy: Train', fontsize=25)\n",
    "plt.xlabel('Model Size Factor', fontsize=25)\n",
    "plt.ylabel('Top-1 Accuracy (%)', fontsize=25)\n",
    "plt.xlim((0.245, 4.07))\n",
    "plt.ylim((-1, 101))\n",
    "plt.grid(True, which='both', c='black')\n",
    "plt.xscale('log')\n",
    "plt.xticks(size_factors, size_labels, fontsize=15)\n",
    "plt.yticks([0, 20, 40, 60, 80, 100], fontsize=15)\n",
    "\n",
    "for curve_idx in range(curves):\n",
    "    plt.plot(size_factors, results[curve_idx][:], color=curve_colors[curve_idx],\n",
    "             linestyle=curve_styles[curve_idx], linewidth=4, alpha=0.75)\n",
    "plt.plot(size_factors, [10 for i in range(len(size_factors))], color='dimgrey', linestyle='--', linewidth=3, alpha=0.75)\n",
    "plt.legend(curve_labels + ['Random Guess'], loc=(0.68, 0.13), framealpha=0.8, fontsize=15)\n",
    "\n",
    "plt.show()\n",
    "\n",
    "# second plot test curves\n",
    "\n",
    "plt.figure(figsize=(10, 7))\n",
    "plt.title('CIFAR-10 - Accuracy: Test', fontsize=25)\n",
    "plt.xlabel('Model Size Factor', fontsize=25)\n",
    "plt.ylabel('Top-1 Accuracy (%)', fontsize=25)\n",
    "plt.xlim((0.245, 4.07))\n",
    "plt.ylim((-1, 101))\n",
    "plt.grid(True, which='both', c='black')\n",
    "plt.xscale('log')\n",
    "plt.xticks(size_factors, size_labels, fontsize=15)\n",
    "plt.yticks([0, 20, 40, 60, 80, 100], fontsize=15)\n",
    "\n",
    "for curve_idx in range(curves):\n",
    "    plt.plot(size_factors, results_test[curve_idx][:], color=curve_colors[curve_idx],\n",
    "             linestyle=curve_styles[curve_idx], linewidth=4, alpha=0.75)\n",
    "plt.plot(size_factors, [10 for i in range(len(size_factors))], color='dimgrey', linestyle='--', linewidth=3, alpha=0.75)\n",
    "plt.legend(curve_labels + ['Random Guess'], loc=(0.68, 0.13), framealpha=0.8, fontsize=15)\n",
    "\n",
    "plt.show()\n"
   ]
  }
 ],
 "metadata": {
  "kernelspec": {
   "display_name": "Python 3",
   "language": "python",
   "name": "python3"
  },
  "language_info": {
   "codemirror_mode": {
    "name": "ipython",
    "version": 3
   },
   "file_extension": ".py",
   "mimetype": "text/x-python",
   "name": "python",
   "nbconvert_exporter": "python",
   "pygments_lexer": "ipython3",
   "version": "3.5.1"
  }
 },
 "nbformat": 4,
 "nbformat_minor": 0
}
