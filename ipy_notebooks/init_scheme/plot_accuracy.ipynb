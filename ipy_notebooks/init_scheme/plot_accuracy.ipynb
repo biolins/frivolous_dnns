{
 "cells": [
  {
   "cell_type": "code",
   "execution_count": 1,
   "metadata": {},
   "outputs": [
    {
     "name": "stdout",
     "output_type": "stream",
     "text": [
      "Processing ID: 62\n",
      "Processing ID: 63\n",
      "Processing ID: 64\n",
      "Processing ID: 65\n",
      "Processing ID: 66\n",
      "Processing ID: 67\n",
      "Processing ID: 68\n",
      "Processing ID: 69\n",
      "Processing ID: 70\n",
      "Processing ID: 71\n",
      "Processing ID: 72\n",
      "Processing ID: 73\n",
      "Processing ID: 74\n",
      "Processing ID: 75\n",
      "Processing ID: 76\n",
      "Processing ID: 77\n",
      "Processing ID: 78\n",
      "Processing ID: 79\n",
      "Processing ID: 80\n",
      "Processing ID: 81\n",
      "Processing ID: 82\n",
      "Processing ID: 83\n",
      "Processing ID: 84\n",
      "Processing ID: 85\n",
      "Processing ID: 86\n",
      "Processing ID: 87\n",
      "Processing ID: 88\n",
      "Processing ID: 89\n",
      "Processing ID: 90\n",
      "Processing ID: 91\n"
     ]
    }
   ],
   "source": [
    "import numpy as np\n",
    "import matplotlib.pyplot as plt\n",
    "import pandas as pd\n",
    "import sys\n",
    "sys.path.append('../../')\n",
    "import experiments\n",
    "\n",
    "curves = 6\n",
    "curves = 6\n",
    "curve_labels = ['Glorot Norm', 'Glorot Unif', 'He Norm', 'He Unif', 'Lecun Norm', 'Lecun Unif']\n",
    "curve_label_colors = ['blue', 'lightblue', 'green', 'lightgreen', 'darkorange', 'moccasin']\n",
    "sizes = 5\n",
    "size_factors = [0.25, 0.5, 1, 2, 4]\n",
    "size_labels = ['1/4x', '1/2x', '1x', '2x', '4x']\n",
    "size_idx_map = {0.25: 0, 0.5: 1, 1: 2, 2: 3, 4: 4}\n",
    "seeds = 5\n",
    "\n",
    "results = np.zeros((curves, seeds, sizes))\n",
    "results_test = np.zeros((curves, seeds, sizes))\n",
    "results_rand = np.zeros((curves, seeds, sizes))\n",
    "# are indexed [nn_type][size_factor]\n",
    "\n",
    "for ID in range(62, 92):\n",
    "\n",
    "    print('Processing ID:', ID)\n",
    "    opt = experiments.opt[ID]\n",
    "\n",
    "    curve_idx = 0  # unregularized\n",
    "    if opt.dataset.random_labels:\n",
    "        curve_idx = 5  # random labels\n",
    "    elif opt.hyper.augmentation and opt.hyper.drop_train < 1:\n",
    "        curve_idx = 1  # all regularizers\n",
    "    elif opt.hyper.augmentation:\n",
    "        curve_idx = 2\n",
    "    elif opt.hyper.drop_train < 1:\n",
    "        curve_idx = 3\n",
    "    elif opt.hyper.weight_decay:\n",
    "        curve_idx = 4\n",
    "    size_idx = size_idx_map[opt.dnn.neuron_multiplier[0]]\n",
    "\n",
    "    csv_file = experiments.opt[ID].csv_dir + experiments.opt[ID].name + '_redundancy.csv'\n",
    "    df = pd.read_csv(csv_file)\n",
    "    acc = df[df['evaluation_set'] == 'train']['performance'].iloc[0]\n",
    "    acc_test = df[df['evaluation_set'] == 'test']['performance'].iloc[0]\n",
    "    results[curve_idx][size_idx] = acc\n",
    "    results_test[curve_idx][size_idx] = acc_test\n",
    "\n",
    "results *= 100\n",
    "results_test *= 100"
   ]
  },
  {
   "cell_type": "code",
   "execution_count": 3,
   "metadata": {},
   "outputs": [
    {
     "ename": "NameError",
     "evalue": "name 'curve_colors' is not defined",
     "output_type": "error",
     "traceback": [
      "\u001b[0;31m---------------------------------------------------------------------------\u001b[0m",
      "\u001b[0;31mNameError\u001b[0m                                 Traceback (most recent call last)",
      "\u001b[0;32m<ipython-input-3-c23af4d140e7>\u001b[0m in \u001b[0;36m<module>\u001b[0;34m\u001b[0m\n\u001b[1;32m     13\u001b[0m \u001b[0;34m\u001b[0m\u001b[0m\n\u001b[1;32m     14\u001b[0m \u001b[0;32mfor\u001b[0m \u001b[0mcurve_idx\u001b[0m \u001b[0;32min\u001b[0m \u001b[0mrange\u001b[0m\u001b[0;34m(\u001b[0m\u001b[0mcurves\u001b[0m\u001b[0;34m)\u001b[0m\u001b[0;34m:\u001b[0m\u001b[0;34m\u001b[0m\u001b[0;34m\u001b[0m\u001b[0m\n\u001b[0;32m---> 15\u001b[0;31m     plt.plot(size_factors, results[curve_idx][:], color=curve_colors[curve_idx],\n\u001b[0m\u001b[1;32m     16\u001b[0m              linestyle=curve_styles[curve_idx], linewidth=4, alpha=0.75)\n\u001b[1;32m     17\u001b[0m \u001b[0mplt\u001b[0m\u001b[0;34m.\u001b[0m\u001b[0mplot\u001b[0m\u001b[0;34m(\u001b[0m\u001b[0msize_factors\u001b[0m\u001b[0;34m,\u001b[0m \u001b[0;34m[\u001b[0m\u001b[0;36m10\u001b[0m \u001b[0;32mfor\u001b[0m \u001b[0mi\u001b[0m \u001b[0;32min\u001b[0m \u001b[0mrange\u001b[0m\u001b[0;34m(\u001b[0m\u001b[0mlen\u001b[0m\u001b[0;34m(\u001b[0m\u001b[0msize_factors\u001b[0m\u001b[0;34m)\u001b[0m\u001b[0;34m)\u001b[0m\u001b[0;34m]\u001b[0m\u001b[0;34m,\u001b[0m \u001b[0mcolor\u001b[0m\u001b[0;34m=\u001b[0m\u001b[0;34m'dimgrey'\u001b[0m\u001b[0;34m,\u001b[0m \u001b[0mlinestyle\u001b[0m\u001b[0;34m=\u001b[0m\u001b[0;34m'--'\u001b[0m\u001b[0;34m,\u001b[0m \u001b[0mlinewidth\u001b[0m\u001b[0;34m=\u001b[0m\u001b[0;36m3\u001b[0m\u001b[0;34m,\u001b[0m \u001b[0malpha\u001b[0m\u001b[0;34m=\u001b[0m\u001b[0;36m0.75\u001b[0m\u001b[0;34m)\u001b[0m\u001b[0;34m\u001b[0m\u001b[0;34m\u001b[0m\u001b[0m\n",
      "\u001b[0;31mNameError\u001b[0m: name 'curve_colors' is not defined"
     ]
    },
    {
     "data": {
      "image/png": "[encoded data removed]",
      "text/plain": [
       "<Figure size 720x504 with 1 Axes>"
      ]
     },
     "metadata": {
      "needs_background": "light"
     },
     "output_type": "display_data"
    }
   ],
   "source": [
    "# first plot train curves\n",
    "\n",
    "plt.figure(figsize=(10, 7))\n",
    "plt.title('CIFAR-10 - Accuracy: Train', fontsize=25)\n",
    "plt.xlabel('Model Size Factor', fontsize=25)\n",
    "plt.ylabel('Top-1 Accuracy (%)', fontsize=25)\n",
    "plt.xlim((0.245, 4.07))\n",
    "plt.ylim((-1, 101))\n",
    "plt.grid(True, which='both', c='black')\n",
    "plt.xscale('log')\n",
    "plt.xticks(size_factors, size_labels, fontsize=15)\n",
    "plt.yticks([0, 20, 40, 60, 80, 100], fontsize=15)\n",
    "\n",
    "for curve_idx in range(curves):\n",
    "    plt.plot(size_factors, results[curve_idx][:], color=curve_colors[curve_idx],\n",
    "             linestyle=curve_styles[curve_idx], linewidth=4, alpha=0.75)\n",
    "plt.plot(size_factors, [10 for i in range(len(size_factors))], color='dimgrey', linestyle='--', linewidth=3, alpha=0.75)\n",
    "plt.legend(curve_labels + ['Random Guess'], loc=(0.68, 0.13), framealpha=0.8, fontsize=15)\n",
    "\n",
    "plt.show()\n",
    "\n",
    "# second plot test curves\n",
    "\n",
    "plt.figure(figsize=(10, 7))\n",
    "plt.title('CIFAR-10 - Accuracy: Test', fontsize=25)\n",
    "plt.xlabel('Model Size Factor', fontsize=25)\n",
    "plt.ylabel('Top-1 Accuracy (%)', fontsize=25)\n",
    "plt.xlim((0.245, 4.07))\n",
    "plt.ylim((-1, 101))\n",
    "plt.grid(True, which='both', c='black')\n",
    "plt.xscale('log')\n",
    "plt.xticks(size_factors, size_labels, fontsize=15)\n",
    "plt.yticks([0, 20, 40, 60, 80, 100], fontsize=15)\n",
    "\n",
    "for curve_idx in range(curves):\n",
    "    plt.plot(size_factors, results_test[curve_idx][:], color=curve_colors[curve_idx],\n",
    "             linestyle=curve_styles[curve_idx], linewidth=4, alpha=0.75)\n",
    "plt.plot(size_factors, [10 for i in range(len(size_factors))], color='dimgrey', linestyle='--', linewidth=3, alpha=0.75)\n",
    "plt.legend(curve_labels + ['Random Guess'], loc=(0.68, 0.13), framealpha=0.8, fontsize=15)\n",
    "\n",
    "plt.show()\n"
   ]
  },
  {
   "cell_type": "code",
   "execution_count": null,
   "metadata": {},
   "outputs": [],
   "source": []
  }
 ],
 "metadata": {
  "kernelspec": {
   "display_name": "Python 3",
   "language": "python",
   "name": "python3"
  },
  "language_info": {
   "codemirror_mode": {
    "name": "ipython",
    "version": 3
   },
   "file_extension": ".py",
   "mimetype": "text/x-python",
   "name": "python",
   "nbconvert_exporter": "python",
   "pygments_lexer": "ipython3",
   "version": "3.6.8"
  }
 },
 "nbformat": 4,
 "nbformat_minor": 1
}
