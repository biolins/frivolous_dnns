{
 "cells": [
  {
   "cell_type": "code",
   "execution_count": null,
   "metadata": {
    "collapsed": true,
    "pycharm": {
     "name": "#%%\n"
    }
   },
   "outputs": [],
   "source": [
    "import numpy as np\n",
    "import pandas as pd\n",
    "import sys\n",
    "import seaborn\n",
    "import matplotlib\n",
    "import matplotlib.ticker\n",
    "from matplotlib import pyplot as plt\n",
    "import experiments\n",
    "\n",
    "matplotlib.rcParams['pdf.fonttype'] = 42\n",
    "matplotlib.rcParams['ps.fonttype'] = 42\n",
    "seaborn.set()\n",
    "seaborn.set_style(\"white\")\n",
    "seaborn.set_context(\"poster\")\n",
    "from matplotlib import pyplot"
   ]
  },
  {
   "cell_type": "code",
   "execution_count": null,
   "outputs": [],
   "source": [
    "# plot accuracy\n",
    "\n",
    "train_accs = []\n",
    "test_accs = []\n",
    "\n",
    "for ID in range(2, 7):\n",
    "\n",
    "    opt = experiments.opt[ID]\n",
    "    csv_file = experiments.opt[ID].csv_dir + experiments.opt[ID].name + '_redundancy.csv'\n",
    "    df = pd.read_csv(csv_file)\n",
    "    train_accs.append(df[df['evaluation_set'] == 'train']['performance'].iloc[0])\n",
    "    test_accs.append(df[df['evaluation_set'] == 'test']['performance'].iloc[0])\n",
    "\n",
    "x = [0.25, 0.5, 1, 2, 4]\n",
    "\n",
    "plt.figure()\n",
    "plt.plot(x, train_accs, 'bo-')\n",
    "plt.xscale('log')\n",
    "plt.xlabel('size_factor')\n",
    "plt.xticks(x, [str(x_val) for x_val in x])\n",
    "plt.ylim([0.5, 1.1])\n",
    "plt.title('train_accs')\n",
    "plt.show()\n",
    "\n",
    "plt.figure()\n",
    "plt.plot(x, test_accs, 'bo-')\n",
    "plt.xscale('log')\n",
    "plt.xlabel('size_factor')\n",
    "plt.xticks(x, [str(x_val) for x_val in x])\n",
    "plt.ylim([0.5, 1.1])\n",
    "plt.title('test_accs')\n",
    "plt.show()"
   ],
   "metadata": {
    "collapsed": false,
    "pycharm": {
     "name": "#%%\n"
    }
   }
  },
  {
   "cell_type": "code",
   "execution_count": null,
   "outputs": [],
   "source": [
    "# plot prunability\n",
    "\n",
    "crosses = 3\n",
    "range_len = 7\n",
    "knockout_range = np.linspace(0.0, 1.0, num=range_len)\n",
    "prunability_means = []\n",
    "\n",
    "def get_threshold(ab_data, th=0.8):\n",
    "    # ab_data is a crosses x ablation proportions array, th is threshold\n",
    "    crosses, ranges = ab_data.shape\n",
    "    for c in range(crosses):\n",
    "        for r in range(ranges-1):\n",
    "            if ab_data[c,r] >= th and ab_data[c,r+1] < th:\n",
    "                x1 = r / (ranges-1)\n",
    "                x2 = (r+1) / (ranges-1)\n",
    "                y1 = ab_data[c,r]\n",
    "                y2 = ab_data[c,r+1]\n",
    "                m_inv = (x2 - x1) / (y2 - y1)\n",
    "                ab_data[c,0] = (m_inv * (th - y1)) + x1  # store in the 0 column\n",
    "                break\n",
    "    return ab_data[:, 0]  # return 0 column\n",
    "\n",
    "for ID in range(2, 7):\n",
    "\n",
    "    opt = experiments.opt[ID]\n",
    "    csv_file = experiments.opt[ID].csv_dir + experiments.opt[ID].name + '_robustness.csv'\n",
    "    df = pd.read_csv(csv_file)\n",
    "\n",
    "    ablation_results = np.zeros((crosses, range_len))\n",
    "    for cross in range(crosses):\n",
    "        for amount in range(range_len):\n",
    "            ablation_results[cross, amount] = df[df['cross_validation'] == cross] \\\n",
    "                [df['evaluation_set'] == 'test'][df['perturbation_layer'] == 'all'] \\\n",
    "                [df['perturbation_name'] == 'Activation Knockout'][df['perturbation_amount'] == knockout_range[amount]] \\\n",
    "                ['performance'].iloc[0]\n",
    "\n",
    "    ablation_results = get_threshold(ablation_results) * (1/4) * opt.dnn.neuron_multiplier[0]\n",
    "    prunability_means.append(np.mean(ablation_results))\n",
    "\n",
    "x = [0.25, 0.5, 1, 2, 4]\n",
    "\n",
    "plt.figure()\n",
    "plt.plot(x, prunability_means, 'bo-')\n",
    "plt.xscale('log')\n",
    "plt.yscale('log')\n",
    "plt.xlabel('size_factor')\n",
    "plt.xticks(x, [str(x_val) for x_val in x])\n",
    "plt.title('prunability_means')\n",
    "plt.show()\n",
    "\n",
    "slopes = [prunability_means[i+1] / prunability_means[i] for i in range(len(prunability_means)-1)]\n",
    "g = sum(slopes) / len(slopes)\n",
    "if g > 2:\n",
    "    print(f'g={g} is greater than 2.0')\n",
    "else:\n",
    "    print(f'g={g} is less than or equal to 2.0')"
   ],
   "metadata": {
    "collapsed": false,
    "pycharm": {
     "name": "#%%\n"
    }
   }
  },
  {
   "cell_type": "code",
   "execution_count": null,
   "outputs": [],
   "source": [
    "# plot redundancy\n",
    "\n",
    "crosses = 3\n",
    "alexnet_units = [96, 256, 384, 192]\n",
    "redundancy_means = []\n",
    "\n",
    "for ID in range(2,7):\n",
    "\n",
    "    opt = experiments.opt[ID]\n",
    "\n",
    "    csv_file = experiments.opt[ID].csv_dir + experiments.opt[ID].name + '_redundancy.csv'\n",
    "    df = pd.read_csv(csv_file)\n",
    "\n",
    "    comp = np.zeros((crosses, len(alexnet_units)))\n",
    "    for lyr in range(len(alexnet_units)):\n",
    "        comp[:,lyr] =  np.array([df[df['cross_validation'] == i][df['evaluation_set'] == 'test'][df['layer'] == str(lyr)]\n",
    "                                    ['compressability_95'].iloc[0] for i in range(crosses)])\n",
    "    redundancy_means.append(np.mean(comp))\n",
    "\n",
    "x = [0.25, 0.5, 1, 2, 4]\n",
    "\n",
    "plt.figure()\n",
    "plt.plot(x, redundancy_means, 'bo-')\n",
    "plt.xscale('log')\n",
    "plt.yscale('log')\n",
    "plt.xlabel('size_factor')\n",
    "plt.xticks(x, [str(x_val) for x_val in x])\n",
    "plt.title('redundancy_means')\n",
    "plt.show()\n",
    "\n",
    "slopes = [redundancy_means[i+1] / redundancy_means[i] for i in range(len(redundancy_means)-1)]\n",
    "g = sum(slopes) / len(slopes)\n",
    "if g > 2:\n",
    "    print(f'g={g} is greater than 2.0')\n",
    "else:\n",
    "    print(f'g={g} is less than or equal to 2.0')"
   ],
   "metadata": {
    "collapsed": false,
    "pycharm": {
     "name": "#%%\n"
    }
   }
  }
 ],
 "metadata": {
  "kernelspec": {
   "display_name": "Python 3",
   "language": "python",
   "name": "python3"
  },
  "language_info": {
   "codemirror_mode": {
    "name": "ipython",
    "version": 2
   },
   "file_extension": ".py",
   "mimetype": "text/x-python",
   "name": "python",
   "nbconvert_exporter": "python",
   "pygments_lexer": "ipython2",
   "version": "2.7.6"
  }
 },
 "nbformat": 4,
 "nbformat_minor": 0
}